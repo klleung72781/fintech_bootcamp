{
 "cells": [
  {
   "cell_type": "code",
   "execution_count": 24,
   "metadata": {},
   "outputs": [],
   "source": [
    "# PyRamen\n",
    "import csv\n",
    "\n",
    "menu = []\n",
    "\n",
    "with open(\"menu_data.csv\", \"r\") as menu_data:\n",
    "    csv_reader = csv.reader(menu_data, delimiter=\",\")\n",
    "    headers = next(csv_reader)\n",
    "    \n",
    "    for row in csv_reader:\n",
    "        menu.append(row)\n",
    "        \n",
    "with open(\"sales_data.csv\", \"r\") as sales_data:\n",
    "    csv_dict = csv.DictReader(sales_data, delimiter=\",\")\n",
    "    sales = list(map(lambda x: dict(x), csv_dict))\n",
    "\n",
    "report = {}\n",
    "\n",
    "for sale in sales:\n",
    "    if sale[\"Menu_Item\"] not in report.keys():\n",
    "        report[sale[\"Menu_Item\"]] = {\n",
    "            \"01-count\": 0,\n",
    "            \"02-revenue\": 0,\n",
    "            \"03-cogs\": 0,\n",
    "            \"04-profit\": 0\n",
    "        }\n",
    "        \n",
    "for row in menu:\n",
    "    for sales_item in report:\n",
    "        if sales_item in row:\n",
    "            report[sales_item][\"Price\"] = row[3]\n",
    "            report[sales_item][\"Cost\"] = row[4]\n",
    "\n",
    "for sale in sales:\n",
    "    report[sale[\"Menu_Item\"]][\"01-count\"] += int(sale[\"Quantity\"])\n",
    "    report[sale[\"Menu_Item\"]][\"02-revenue\"] += float(report[sale[\"Menu_Item\"]][\"Price\"]) * int(sale[\"Quantity\"])\n",
    "    report[sale[\"Menu_Item\"]][\"03-cogs\"] += float(report[sale[\"Menu_Item\"]][\"Cost\"]) * int(sale[\"Quantity\"])\n",
    "    report[sale[\"Menu_Item\"]][\"04-profit\"] += (float(report[sale[\"Menu_Item\"]][\"Price\"]) - float(report[sale[\"Menu_Item\"]][\"Cost\"])) * int(sale[\"Quantity\"])\n",
    "    \n",
    "text_data = \"\"\n",
    "\n",
    "for report_line in report:\n",
    "    del report[report_line][\"Price\"]\n",
    "    del report[report_line][\"Cost\"]\n",
    "    text_data += f\"{report_line} {report[report_line]}\\n\"\n",
    "    \n",
    "report_text_file = open(\"report_data.txt\", \"w\")\n",
    "report_text_file.write(text_data)\n",
    "report_text_file.close()"
   ]
  },
  {
   "cell_type": "code",
   "execution_count": null,
   "metadata": {},
   "outputs": [],
   "source": []
  }
 ],
 "metadata": {
  "kernelspec": {
   "display_name": "Python 3",
   "language": "python",
   "name": "python3"
  },
  "language_info": {
   "codemirror_mode": {
    "name": "ipython",
    "version": 3
   },
   "file_extension": ".py",
   "mimetype": "text/x-python",
   "name": "python",
   "nbconvert_exporter": "python",
   "pygments_lexer": "ipython3",
   "version": "3.7.6"
  }
 },
 "nbformat": 4,
 "nbformat_minor": 4
}
