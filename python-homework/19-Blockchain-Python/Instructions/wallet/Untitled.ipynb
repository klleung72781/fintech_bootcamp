{
 "cells": [
  {
   "cell_type": "code",
   "execution_count": 43,
   "metadata": {},
   "outputs": [],
   "source": [
    "import subprocess\n",
    "import json\n",
    "import os\n",
    "from bit import PrivateKeyTestnet\n",
    "import web3\n",
    "from web3 import Web3\n",
    "from web3.middleware import geth_poa_middleware\n",
    "from eth_account import Account\n",
    "from dotenv import load_dotenv\n",
    "load_dotenv()\n",
    "\n",
    "from constants import *\n",
    "w3 = Web3(Web3.HTTPProvider(\"http://127.0.0.1:7545\"))\n",
    "w3.middleware_onion.inject(geth_poa_middleware, layer=0)"
   ]
  },
  {
   "cell_type": "code",
   "execution_count": 44,
   "metadata": {},
   "outputs": [],
   "source": [
    "from constants import *\n",
    "mnemonic = os.getenv('MNEMONIC')"
   ]
  },
  {
   "cell_type": "code",
   "execution_count": 85,
   "metadata": {},
   "outputs": [],
   "source": [
    "def derive_wallets(coin):\n",
    "    mnemonic = os.getenv('MNEMONIC')\n",
    "\n",
    "    #ln does not work for me, replaced with actual php instead\n",
    "    command = f'php hd-wallet-derive\\hd-wallet-derive.php -g --mnemonic=\"{mnemonic}\" --cols=path,address,privkey,pubkey --format=json --coin={coin}'\n",
    "\n",
    "    p = subprocess.Popen(command, stdout=subprocess.PIPE, shell=True)\n",
    "    output, err = p.communicate()\n",
    "    p_status = p.wait()\n",
    "\n",
    "    keys = json.loads(output)\n",
    "    return keys\n",
    "\n",
    "def priv_key_to_account(coin, priv_key):\n",
    "    if (coin == 'eth'):\n",
    "        return web3.eth.Account.privateKeyToAccount(priv_key)\n",
    "    elif (coin == 'btc-test'):\n",
    "        return PrivateKeyTestnet(priv_key)\n",
    "    else:\n",
    "        return None\n",
    "\n",
    "def create_tx(coin , account, to, amount):\n",
    "    if (coin == 'eth'):\n",
    "        return {\n",
    "            'to': to,\n",
    "            'from': account.address,\n",
    "            'value': amount,\n",
    "            'gas': w3.eth.estimateGas({\n",
    "                \"from\": account.address,\n",
    "                \"to\": to,\n",
    "                \"value\": amount\n",
    "            }),\n",
    "            'gasPrice': w3.eth.gasPrice,\n",
    "            'nonce': w3.eth.getTransactionCount(account.address)\n",
    "        }\n",
    "    elif (coin == 'btc-test'):\n",
    "        return PrivateKeyTestnet.prepare_transaction(account.address, [(to, amount, BTC)])\n",
    "    else:\n",
    "        return None"
   ]
  },
  {
   "cell_type": "code",
   "execution_count": 55,
   "metadata": {},
   "outputs": [],
   "source": [
    "coin_list = [BTC, ETH, BTCTEST]\n",
    "coins = {}\n",
    "for coin in coin_list:\n",
    "    coins[coin] = derive_wallets(coin)"
   ]
  },
  {
   "cell_type": "code",
   "execution_count": 89,
   "metadata": {},
   "outputs": [
    {
     "data": {
      "text/plain": [
       "[{'path': \"m/44'/1'/0'/0/0\",\n",
       "  'address': 'mrEpvqTHeU52Aj5SRsux33V4xwqEmWcbAW',\n",
       "  'privkey': 'cTvT1LAHD9X3BLiKRJbrtCkErMeRaJwpDrNtZCAQw9MGWycJ2pXf',\n",
       "  'pubkey': '02c15d8c1d85ca5db116fc6ad7e8c48c3a2be7b3f9877d02069322a52b654dfff7'},\n",
       " {'path': \"m/44'/1'/0'/0/1\",\n",
       "  'address': 'mpJbDpsFBtu8wDJDsLuHBcGbnf3T2BhEQL',\n",
       "  'privkey': 'cQbwVLXcXjH75vAnTr4CjFriqmn7yXPzuCxvvMeFjJ91ywES8rM1',\n",
       "  'pubkey': '03fc68ca7877ee3caeb3febcb43b1d563f39fbbbab333235a758cf9389d43a905c'},\n",
       " {'path': \"m/44'/1'/0'/0/2\",\n",
       "  'address': 'miRZq1aZpGM4aztZdAPezmUEtNP8f6fwQD',\n",
       "  'privkey': 'cVt5KTfpsrnKUiMYeqeVequYr5jXby5xnoToMtPzky84rk54UHxR',\n",
       "  'pubkey': '03a46b7afa200f696edd20e1f93a0cd0ad9b1f484f8062ef0bc5bb420404c1f6dc'},\n",
       " {'path': \"m/44'/1'/0'/0/3\",\n",
       "  'address': 'mrnKe5nJHmZjcJURvHoa5ptiPTAuRoTzwg',\n",
       "  'privkey': 'cT6R7RN89QT13LZKVagCD6uz2Y8ZBoe18m8E3HkB9dFA1LFSShCc',\n",
       "  'pubkey': '030cf5cf0885a4f67688d2943ab996b24d5f30e0bc31de25ff5f969edac8f170b9'},\n",
       " {'path': \"m/44'/1'/0'/0/4\",\n",
       "  'address': 'msQ2is4R3wNuHpA2AVQNYgK79Kiaf5vsUk',\n",
       "  'privkey': 'cV4rMR2fHMkNN4zc5AnC3RmnEqzcpJFYAVTzCGynEV9kgEERiNNg',\n",
       "  'pubkey': '02d9e7e792d047675ad0fad7794dc906cd92bdf48f4d57d6f300792db191393f19'},\n",
       " {'path': \"m/44'/1'/0'/0/5\",\n",
       "  'address': 'mztoRtjDzm8HNvgM2m83jkQYarvnD4Az1N',\n",
       "  'privkey': 'cTWAnpAAqECXb3UsocwtBFshy41NBp3mmTFc4fUFKaq1z2ertj4c',\n",
       "  'pubkey': '034bbbe3646642efea0a566beceaff178966270622d966bcf30127d3385a6dd645'},\n",
       " {'path': \"m/44'/1'/0'/0/6\",\n",
       "  'address': 'mgzC7f2mmJW5y2kW9R4KWNDzKr9hePVHrC',\n",
       "  'privkey': 'cRQyRuXD3SuiMeNtFmXSXYEGYfUaRLqbALHBLwJLGTatJWdgTafN',\n",
       "  'pubkey': '02f4ee547772db0c5d8fad74aab64aad0d50b35ab0ca7e064e316dd6fd6d16f73f'},\n",
       " {'path': \"m/44'/1'/0'/0/7\",\n",
       "  'address': 'n4fjCscesQLaWZGZroy1LfmXQNBE1nNwfU',\n",
       "  'privkey': 'cR1ATRizTC6UPoxDPvbCf5iozs7ViMVmH9k2UCvCeRxTYXRhdyt1',\n",
       "  'pubkey': '038daf01451ede2ac4fcfc2f641b0ee392b64f4747955f42f17c3972586d0cfdc3'},\n",
       " {'path': \"m/44'/1'/0'/0/8\",\n",
       "  'address': 'mrv3xE68m9qpPNtoJdoTq8pj1WNk7k6FfY',\n",
       "  'privkey': 'cS4gFc9XVCAzk15xduG8Yr3WvKoRyMf1MujhAd64homHn1VhvoEv',\n",
       "  'pubkey': '02f67d06b441d94c2b33a31c0f7b4b2f916c8a1e077c8b41ac1974a12159e10355'},\n",
       " {'path': \"m/44'/1'/0'/0/9\",\n",
       "  'address': 'mihMEkFXAi1f1bpCbDrDShe1Y32cfNFpUe',\n",
       "  'privkey': 'cPjwRdvwdhCY3HjftYKc7rVyfweb4mn4P2yN5QGxPe8M8YP9tG66',\n",
       "  'pubkey': '02c758e26d260bc51aea103c7ac259d0c2b0ac994f67960dcbfa5990bc3915bca1'}]"
      ]
     },
     "execution_count": 89,
     "metadata": {},
     "output_type": "execute_result"
    }
   ],
   "source": [
    "coins[BTCTEST]"
   ]
  },
  {
   "cell_type": "code",
   "execution_count": 123,
   "metadata": {},
   "outputs": [
    {
     "data": {
      "text/plain": [
       "'{\"unspents\":[{\"amount\":10000,\"confirmations\":135,\"script\":\"76a914759c945d8ddf56b911998ed6dd57d4ffea797f0388ac\",\"txid\":\"789a5e4ffbc51fd4b3c56d4db32acbe430e340483fb0c510759fe3bfd2142e1b\",\"txindex\":1,\"type\":\"p2pkh\",\"vsize\":148,\"segwit\":false,\"sequence\":4294967295},{\"amount\":94000,\"confirmations\":5,\"script\":\"76a914759c945d8ddf56b911998ed6dd57d4ffea797f0388ac\",\"txid\":\"27475ccb59eb4ed22cb68ba3191af4baf02f64eb9dc821831d5f761747bcef57\",\"txindex\":0,\"type\":\"p2pkh\",\"vsize\":148,\"segwit\":false,\"sequence\":4294967295},{\"amount\":1743775,\"confirmations\":4,\"script\":\"76a914759c945d8ddf56b911998ed6dd57d4ffea797f0388ac\",\"txid\":\"6ec886a304aebcac5ebd87b0709e6eec3b367e5aee9c47c681e690ce24603841\",\"txindex\":0,\"type\":\"p2pkh\",\"vsize\":148,\"segwit\":false,\"sequence\":4294967295}],\"outputs\":[[\"mpJbDpsFBtu8wDJDsLuHBcGbnf3T2BhEQL\",10],[\"mrEpvqTHeU52Aj5SRsux33V4xwqEmWcbAW\",1669241]]}'"
      ]
     },
     "execution_count": 123,
     "metadata": {},
     "output_type": "execute_result"
    }
   ],
   "source": [
    "raw_tx = create_tx(BTCTEST, priv_key_to_account(BTCTEST, coins[BTCTEST][0]['privkey']), coins[BTCTEST][1]['address'], 0.0000001)\n",
    "# raw_tx = create_tx(ETH, priv_key_to_account(ETH, coins[ETH][0]['privkey']), coins[ETH][1]['address'], 1)\n",
    "raw_tx\n",
    "# dir(w3.eth)"
   ]
  },
  {
   "cell_type": "code",
   "execution_count": 125,
   "metadata": {},
   "outputs": [],
   "source": [
    "from bit.network import NetworkAPI"
   ]
  },
  {
   "cell_type": "code",
   "execution_count": 124,
   "metadata": {},
   "outputs": [
    {
     "data": {
      "text/plain": [
       "'01000000031b2e14d2bfe39f7510c5b03f4840e330e4cb2ab34d6dc5b3d41fc5fb4f5e9a78010000006a47304402203e4598cf4e526806f9b2e5cc3f3a9b1dad5f494b94f781e21d8203842d4bc67f02200ab4e67171f9577d83b37038f8c314ec9b5e0c928225d3f282b04916a9ca9906012102c15d8c1d85ca5db116fc6ad7e8c48c3a2be7b3f9877d02069322a52b654dfff7ffffffff57efbc4717765f1d8321c89deb642ff0baf41a19a38bb62cd24eeb59cb5c4727000000006b483045022100ce3eb601c18a75d4050632ced121c6ef28a7391b2f4f0a301ed3d43496b73138022018e2f416465d9a122da603739c0a7c56d6c5064dd8070aedd3b67340ea82e60f012102c15d8c1d85ca5db116fc6ad7e8c48c3a2be7b3f9877d02069322a52b654dfff7ffffffff41386024ce90e681c6479cee5a7e363bec6e9e70b087bd5eacbcae04a386c86e000000006a47304402207da452878b70dabb2ddd1ea599d20986c6a89760849c6bb751d4a5afffeee9080220620376b21e5c0912ac679e4d4cb290bab6fb36dbd00397427691bed2e41c6406012102c15d8c1d85ca5db116fc6ad7e8c48c3a2be7b3f9877d02069322a52b654dfff7ffffffff020a000000000000001976a91460628cbc1e2cb0d8fd74571264c6cea0bc68464e88ac79781900000000001976a914759c945d8ddf56b911998ed6dd57d4ffea797f0388ac00000000'"
      ]
     },
     "execution_count": 124,
     "metadata": {},
     "output_type": "execute_result"
    }
   ],
   "source": [
    "account = priv_key_to_account(BTCTEST, coins[BTCTEST][0]['privkey'])\n",
    "# signed = account.sign_transaction(raw_tx)\n",
    "# account.sign_transaction(raw_tx)\n",
    "account.sign_transaction(raw_tx)"
   ]
  },
  {
   "cell_type": "code",
   "execution_count": 103,
   "metadata": {},
   "outputs": [
    {
     "data": {
      "text/plain": [
       "HexBytes('0x46a1b3a3fb18c81211fd074b6edcde722c67a5a9657e854ec391a9e73c0f4e59')"
      ]
     },
     "execution_count": 103,
     "metadata": {},
     "output_type": "execute_result"
    }
   ],
   "source": [
    "w3.eth.sendRawTransaction(signed.rawTransaction)"
   ]
  }
 ],
 "metadata": {
  "kernelspec": {
   "display_name": "Python 3",
   "language": "python",
   "name": "python3"
  },
  "language_info": {
   "codemirror_mode": {
    "name": "ipython",
    "version": 3
   },
   "file_extension": ".py",
   "mimetype": "text/x-python",
   "name": "python",
   "nbconvert_exporter": "python",
   "pygments_lexer": "ipython3",
   "version": "3.7.7"
  }
 },
 "nbformat": 4,
 "nbformat_minor": 4
}
