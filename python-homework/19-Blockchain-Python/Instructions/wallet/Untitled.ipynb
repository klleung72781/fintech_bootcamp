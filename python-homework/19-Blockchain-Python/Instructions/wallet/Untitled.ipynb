{
 "cells": [
  {
   "cell_type": "code",
   "execution_count": 1,
   "metadata": {},
   "outputs": [
    {
     "name": "stderr",
     "output_type": "stream",
     "text": [
      "Consider installing rusty-rlp to improve pyrlp performance with a rust based backend\n"
     ]
    }
   ],
   "source": [
    "import subprocess\n",
    "import json\n",
    "import os\n",
    "from bit import PrivateKeyTestnet\n",
    "import web3\n",
    "from web3 import Web3\n",
    "from web3.middleware import geth_poa_middleware\n",
    "from eth_account import Account\n",
    "from dotenv import load_dotenv\n",
    "load_dotenv()\n",
    "\n",
    "from constants import *\n",
    "w3 = Web3(Web3.HTTPProvider(\"http://127.0.0.1:8545\"))\n",
    "w3.middleware_onion.inject(geth_poa_middleware, layer=0)"
   ]
  },
  {
   "cell_type": "code",
   "execution_count": 2,
   "metadata": {},
   "outputs": [],
   "source": [
    "from constants import *\n",
    "mnemonic = os.getenv('MNEMONIC')"
   ]
  },
  {
   "cell_type": "code",
   "execution_count": 3,
   "metadata": {},
   "outputs": [],
   "source": [
    "def derive_wallets(coin):\n",
    "    mnemonic = os.getenv('MNEMONIC')\n",
    "\n",
    "    #ln does not work for me, replaced with actual php instead\n",
    "    command = f'php hd-wallet-derive\\hd-wallet-derive.php -g --mnemonic=\"{mnemonic}\" --cols=path,address,privkey,pubkey --format=json --coin={coin}'\n",
    "\n",
    "    p = subprocess.Popen(command, stdout=subprocess.PIPE, shell=True)\n",
    "    output, err = p.communicate()\n",
    "    p_status = p.wait()\n",
    "\n",
    "    keys = json.loads(output)\n",
    "    return keys\n",
    "\n",
    "def priv_key_to_account(coin, priv_key):\n",
    "    if (coin == 'eth'):\n",
    "        return web3.eth.Account.privateKeyToAccount(priv_key)\n",
    "    elif (coin == 'btc-test'):\n",
    "        return PrivateKeyTestnet(priv_key)\n",
    "    else:\n",
    "        return None\n",
    "\n",
    "def create_tx(coin , account, to, amount):\n",
    "    if (coin == 'eth'):\n",
    "        return {\n",
    "            'to': to,\n",
    "            'from': account,\n",
    "            'value': amount,\n",
    "            'gas': w3.eth.estimateGas({\n",
    "                \"from\": account.address,\n",
    "                \"to\": to,\n",
    "                \"value\": amount\n",
    "            }),\n",
    "            'gasPrice': w3.eth.gasPrice,\n",
    "            'nonce': w3.eth.getTransactionCount(account.address),\n",
    "            'chainID': coins[coin][0]['path'].split(\"'/\")[1]\n",
    "        }\n",
    "    elif (coin == 'btc-test'):\n",
    "        return PrivateKeyTestnet.prepare_transaction(account.address, [(to, amount, BTC)])\n",
    "    else:\n",
    "        return None"
   ]
  },
  {
   "cell_type": "code",
   "execution_count": 4,
   "metadata": {},
   "outputs": [],
   "source": [
    "coin_list = [BTC, ETH, BTCTEST]\n",
    "coins = {}\n",
    "for coin in coin_list:\n",
    "    coins[coin] = derive_wallets(coin)"
   ]
  },
  {
   "cell_type": "code",
   "execution_count": 6,
   "metadata": {},
   "outputs": [
    {
     "data": {
      "text/plain": [
       "[{'path': \"m/44'/1'/0'/0/0\",\n",
       "  'address': 'mrEpvqTHeU52Aj5SRsux33V4xwqEmWcbAW',\n",
       "  'privkey': 'cTvT1LAHD9X3BLiKRJbrtCkErMeRaJwpDrNtZCAQw9MGWycJ2pXf',\n",
       "  'pubkey': '02c15d8c1d85ca5db116fc6ad7e8c48c3a2be7b3f9877d02069322a52b654dfff7'},\n",
       " {'path': \"m/44'/1'/0'/0/1\",\n",
       "  'address': 'mpJbDpsFBtu8wDJDsLuHBcGbnf3T2BhEQL',\n",
       "  'privkey': 'cQbwVLXcXjH75vAnTr4CjFriqmn7yXPzuCxvvMeFjJ91ywES8rM1',\n",
       "  'pubkey': '03fc68ca7877ee3caeb3febcb43b1d563f39fbbbab333235a758cf9389d43a905c'},\n",
       " {'path': \"m/44'/1'/0'/0/2\",\n",
       "  'address': 'miRZq1aZpGM4aztZdAPezmUEtNP8f6fwQD',\n",
       "  'privkey': 'cVt5KTfpsrnKUiMYeqeVequYr5jXby5xnoToMtPzky84rk54UHxR',\n",
       "  'pubkey': '03a46b7afa200f696edd20e1f93a0cd0ad9b1f484f8062ef0bc5bb420404c1f6dc'},\n",
       " {'path': \"m/44'/1'/0'/0/3\",\n",
       "  'address': 'mrnKe5nJHmZjcJURvHoa5ptiPTAuRoTzwg',\n",
       "  'privkey': 'cT6R7RN89QT13LZKVagCD6uz2Y8ZBoe18m8E3HkB9dFA1LFSShCc',\n",
       "  'pubkey': '030cf5cf0885a4f67688d2943ab996b24d5f30e0bc31de25ff5f969edac8f170b9'},\n",
       " {'path': \"m/44'/1'/0'/0/4\",\n",
       "  'address': 'msQ2is4R3wNuHpA2AVQNYgK79Kiaf5vsUk',\n",
       "  'privkey': 'cV4rMR2fHMkNN4zc5AnC3RmnEqzcpJFYAVTzCGynEV9kgEERiNNg',\n",
       "  'pubkey': '02d9e7e792d047675ad0fad7794dc906cd92bdf48f4d57d6f300792db191393f19'},\n",
       " {'path': \"m/44'/1'/0'/0/5\",\n",
       "  'address': 'mztoRtjDzm8HNvgM2m83jkQYarvnD4Az1N',\n",
       "  'privkey': 'cTWAnpAAqECXb3UsocwtBFshy41NBp3mmTFc4fUFKaq1z2ertj4c',\n",
       "  'pubkey': '034bbbe3646642efea0a566beceaff178966270622d966bcf30127d3385a6dd645'},\n",
       " {'path': \"m/44'/1'/0'/0/6\",\n",
       "  'address': 'mgzC7f2mmJW5y2kW9R4KWNDzKr9hePVHrC',\n",
       "  'privkey': 'cRQyRuXD3SuiMeNtFmXSXYEGYfUaRLqbALHBLwJLGTatJWdgTafN',\n",
       "  'pubkey': '02f4ee547772db0c5d8fad74aab64aad0d50b35ab0ca7e064e316dd6fd6d16f73f'},\n",
       " {'path': \"m/44'/1'/0'/0/7\",\n",
       "  'address': 'n4fjCscesQLaWZGZroy1LfmXQNBE1nNwfU',\n",
       "  'privkey': 'cR1ATRizTC6UPoxDPvbCf5iozs7ViMVmH9k2UCvCeRxTYXRhdyt1',\n",
       "  'pubkey': '038daf01451ede2ac4fcfc2f641b0ee392b64f4747955f42f17c3972586d0cfdc3'},\n",
       " {'path': \"m/44'/1'/0'/0/8\",\n",
       "  'address': 'mrv3xE68m9qpPNtoJdoTq8pj1WNk7k6FfY',\n",
       "  'privkey': 'cS4gFc9XVCAzk15xduG8Yr3WvKoRyMf1MujhAd64homHn1VhvoEv',\n",
       "  'pubkey': '02f67d06b441d94c2b33a31c0f7b4b2f916c8a1e077c8b41ac1974a12159e10355'},\n",
       " {'path': \"m/44'/1'/0'/0/9\",\n",
       "  'address': 'mihMEkFXAi1f1bpCbDrDShe1Y32cfNFpUe',\n",
       "  'privkey': 'cPjwRdvwdhCY3HjftYKc7rVyfweb4mn4P2yN5QGxPe8M8YP9tG66',\n",
       "  'pubkey': '02c758e26d260bc51aea103c7ac259d0c2b0ac994f67960dcbfa5990bc3915bca1'}]"
      ]
     },
     "execution_count": 6,
     "metadata": {},
     "output_type": "execute_result"
    }
   ],
   "source": [
    "coins[BTCTEST]"
   ]
  },
  {
   "cell_type": "code",
   "execution_count": 124,
   "metadata": {},
   "outputs": [
    {
     "data": {
      "text/plain": [
       "{'to': '0x8f025C633D9548B08637A6Fe8b67e91F1d59F1a9',\n",
       " 'from': <eth_account.signers.local.LocalAccount at 0x2a7046edb48>,\n",
       " 'value': 1,\n",
       " 'gas': 21000,\n",
       " 'gasPrice': 20000000000,\n",
       " 'nonce': 0,\n",
       " 'chainID': '60'}"
      ]
     },
     "execution_count": 124,
     "metadata": {},
     "output_type": "execute_result"
    }
   ],
   "source": [
    "raw_tx = create_tx(ETH, priv_key_to_account(ETH, coins[ETH][0]['privkey']), coins[ETH][1]['address'], 1)\n",
    "raw_tx\n",
    "# dir(w3.eth)"
   ]
  },
  {
   "cell_type": "code",
   "execution_count": null,
   "metadata": {},
   "outputs": [],
   "source": [
    "web3.eth.Account.sign_transaction(raw_tx, private_key=coins[ETH][0]['privkey'])"
   ]
  }
 ],
 "metadata": {
  "kernelspec": {
   "display_name": "Python 3",
   "language": "python",
   "name": "python3"
  },
  "language_info": {
   "codemirror_mode": {
    "name": "ipython",
    "version": 3
   },
   "file_extension": ".py",
   "mimetype": "text/x-python",
   "name": "python",
   "nbconvert_exporter": "python",
   "pygments_lexer": "ipython3",
   "version": "3.7.7"
  }
 },
 "nbformat": 4,
 "nbformat_minor": 4
}
