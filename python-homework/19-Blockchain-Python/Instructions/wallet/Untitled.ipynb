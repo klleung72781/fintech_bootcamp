{
 "cells": [
  {
   "cell_type": "code",
   "execution_count": 43,
   "metadata": {},
   "outputs": [],
   "source": [
    "import subprocess\n",
    "import json\n",
    "import os\n",
    "from bit import PrivateKeyTestnet\n",
    "import web3\n",
    "from web3 import Web3\n",
    "from web3.middleware import geth_poa_middleware\n",
    "from eth_account import Account\n",
    "from dotenv import load_dotenv\n",
    "load_dotenv()\n",
    "\n",
    "from constants import *\n",
    "w3 = Web3(Web3.HTTPProvider(\"http://127.0.0.1:7545\"))\n",
    "w3.middleware_onion.inject(geth_poa_middleware, layer=0)"
   ]
  },
  {
   "cell_type": "code",
   "execution_count": 44,
   "metadata": {},
   "outputs": [],
   "source": [
    "from constants import *\n",
    "mnemonic = os.getenv('MNEMONIC')"
   ]
  },
  {
   "cell_type": "code",
   "execution_count": 126,
   "metadata": {},
   "outputs": [],
   "source": [
    "def derive_wallets(coin):\n",
    "    mnemonic = os.getenv('MNEMONIC')\n",
    "\n",
    "    #ln does not work for me, replaced with actual php instead\n",
    "    command = f'php hd-wallet-derive\\hd-wallet-derive.php -g --mnemonic=\"{mnemonic}\" --cols=path,address,privkey,pubkey --format=json --coin={coin}'\n",
    "\n",
    "    p = subprocess.Popen(command, stdout=subprocess.PIPE, shell=True)\n",
    "    output, err = p.communicate()\n",
    "    p_status = p.wait()\n",
    "\n",
    "    keys = json.loads(output)\n",
    "    return keys\n",
    "\n",
    "def priv_key_to_account(coin, priv_key):\n",
    "    if (coin == 'eth'):\n",
    "        return web3.eth.Account.privateKeyToAccount(priv_key)\n",
    "    elif (coin == 'btc-test'):\n",
    "        return PrivateKeyTestnet(priv_key)\n",
    "    else:\n",
    "        return None\n",
    "\n",
    "def create_tx(coin , priv_key, to, amount):\n",
    "    account = priv_key_to_account(coin, priv_key)\n",
    "    if (coin == 'eth'):\n",
    "        return {\n",
    "            'to': to,\n",
    "            'from': account.address,\n",
    "            'value': amount,\n",
    "            'gas': w3.eth.estimateGas({\n",
    "                \"from\": account.address,\n",
    "                \"to\": to,\n",
    "                \"value\": amount\n",
    "            }),\n",
    "            'gasPrice': w3.eth.gasPrice,\n",
    "            'nonce': w3.eth.getTransactionCount(account.address)\n",
    "        }\n",
    "    elif (coin == 'btc-test'):\n",
    "        return PrivateKeyTestnet.prepare_transaction(account.address, [(to, amount, BTC)])\n",
    "    else:\n",
    "        return None\n",
    "\n",
    "def send_tx(coin, priv_key, to, amount):\n",
    "    \n",
    "    account = priv_key_to_account(coin, priv_key)\n",
    "    raw_tx = create_tx(coin, priv_key, to, amount)\n",
    "\n",
    "    if (coin == 'eth'):\n",
    "        signed = account.sign_transaction(raw_tx)\n",
    "        return w3.eth.sendRawTransaction(signed.rawTransaction)\n",
    "    elif (coin == 'btc-test'):\n",
    "        signed = account.sign_transaction(raw_tx)\n",
    "        return NetworkAPI.broadcast_tx_testnet(signed)\n",
    "    else:\n",
    "        return None"
   ]
  },
  {
   "cell_type": "code",
   "execution_count": 128,
   "metadata": {
    "collapsed": true,
    "jupyter": {
     "outputs_hidden": true
    }
   },
   "outputs": [
    {
     "data": {
      "text/plain": [
       "{'btc': [{'path': \"m/44'/0'/0'/0/0\",\n",
       "   'address': '17YmZR7TtK8LYR4KSdFCv7cWmw3sZVJPqA',\n",
       "   'privkey': 'L4TmignWjXV6beSG85H32TRTa8jpLa4vusa5AKR3DB4yqoCowguo',\n",
       "   'pubkey': '03976fd2fb02c9d5e5d9fa58f2ff18fd8fc842ecbc5c34c8a906a42f20b289e019'},\n",
       "  {'path': \"m/44'/0'/0'/0/1\",\n",
       "   'address': '1CEgpahg7m3ocmkPRpBenozAuURSnMpyJX',\n",
       "   'privkey': 'KxKz5693fNEx4ibpMa651eGMpLFhBqnBLh4hGQ2oFagTnNejuTWy',\n",
       "   'pubkey': '02cb9769f54807cb8cb88934a0961a7722e45192fded77784166bc042c76b04fbd'},\n",
       "  {'path': \"m/44'/0'/0'/0/2\",\n",
       "   'address': '1KwDNyU42rjTPPDPJJ9vhbqEDHcEBqS6Ap',\n",
       "   'privkey': 'L2zjEnMaPbFxktd2L6ShmNTtEegPHbEV6pZUKFSTeDyovJAkx3qW',\n",
       "   'pubkey': '03727b38b6e930ffaecad7ad5bae0bf8e4d5f4310eacde09c03219872b85d83bae'},\n",
       "  {'path': \"m/44'/0'/0'/0/3\",\n",
       "   'address': '1K9AQJWmZLTKQvJZLzQaJq6nqzdbxQvL6Q',\n",
       "   'privkey': 'KyH9JaJGU4RhDWwRstVvVEQjQPUfF43fT7NcZD3qpTYar5ihMC1Z',\n",
       "   'pubkey': '0241e0449e7ec948b7bf4e17ccee3c9c0d5a1bf412edef24002023916568d1ca63'},\n",
       "  {'path': \"m/44'/0'/0'/0/4\",\n",
       "   'address': '1PkLjTKAB4zg4ir8qagCEtgFmry7e53QJX',\n",
       "   'privkey': 'L2HBeY6w1v7mWiAXUxFMYkDmEz3EB3bMUjDtdUukc6ckj22KB2T1',\n",
       "   'pubkey': '0248c58fc9363602180831cf16021cf686411bf98147eb953c0b35f0f5a812eca3'},\n",
       "  {'path': \"m/44'/0'/0'/0/5\",\n",
       "   'address': '1FUb9GpFKQmhLw5ZbZSNZrCAcegqNcqSYh',\n",
       "   'privkey': 'Kymt1ceNnYpkqjRf4juzEvKsSoFHP2ySiKEg9ioqsNQREcHNhkvo',\n",
       "   'pubkey': '028efd1cb703628c26bf9298fe0f8f79514424ca853c83ea87d5ca8485a3fb30b9'},\n",
       "  {'path': \"m/44'/0'/0'/0/6\",\n",
       "   'address': '1KRgbum6fkCM4sbXzHeZZtcDrvvBHi1jo1',\n",
       "   'privkey': 'L1tVwtz1T26288e3USKqxAJHWq9F6VyapXTYS3xTG2AWUoxe8vTz',\n",
       "   'pubkey': '023225c3a5cd532889c4d6fac1fbaae1a3fef71e1becf65183ad95f88c853e0dfc'},\n",
       "  {'path': \"m/44'/0'/0'/0/7\",\n",
       "   'address': '1CLXunNK6NZXD7BUFbUEvaBciCbfjMdVhc',\n",
       "   'privkey': 'L32zqeBpvR29wAZkFhdtYpGK6BVeKi91ZPk4WirKAwdMQCRP8kkw',\n",
       "   'pubkey': '035a7dbddbf6923d8111bb7fb7a718c2ea7e22d12fca8818ec6ee36a74ab1c9b67'},\n",
       "  {'path': \"m/44'/0'/0'/0/8\",\n",
       "   'address': '1DZmXkxSEXY3qUqnZPFGohUPKgReDQ5Uki',\n",
       "   'privkey': 'KyVFgx3GHsETyaF1eM3ugFkFTHBL4FLhP6CtqT5rUNSHoCZBqRJA',\n",
       "   'pubkey': '03d43396c62469bd6bd9da3d96f90d5a9a5a93b50fca096cd7fae6070709401c67'},\n",
       "  {'path': \"m/44'/0'/0'/0/9\",\n",
       "   'address': '1Eh6YUyRzbgx1bzi89kQtobsEkCsLTSXxy',\n",
       "   'privkey': 'L3ADzZsXngVHBNn4jp4evU2PZsoxG1n7cXKftf8pbi7U1STTMTUq',\n",
       "   'pubkey': '037ec26114207cc5f31710d265c10af0a63534e0cc46cc54c4d4f86c904a64033c'}],\n",
       " 'eth': [{'path': \"m/44'/60'/0'/0/0\",\n",
       "   'address': '0x0Df369322128539502030ad6c948D098ea8BACFC',\n",
       "   'privkey': '0x5e12321510d974de9ddeda9acf2f87509bbc19664697ab5c8e76687c52f6abb8',\n",
       "   'pubkey': '02ccf79a18c12b4d9a382f422996ad5306ee630f80a78e1b2ddd91ca8259de1eae'},\n",
       "  {'path': \"m/44'/60'/0'/0/1\",\n",
       "   'address': '0x8f025C633D9548B08637A6Fe8b67e91F1d59F1a9',\n",
       "   'privkey': '0x4bfe1275b7b191f7e8f57b8a81f648b9c9ed0e0c095445f8c202ac235e66b860',\n",
       "   'pubkey': '028932613c2d74a45842fc1cb2a26d925f1bab5cb1ea965736374c4ee261a95007'},\n",
       "  {'path': \"m/44'/60'/0'/0/2\",\n",
       "   'address': '0xc8E33f4D3DEFBfBb97d0391F9D665De693cdDE68',\n",
       "   'privkey': '0xecf71fd724abdacccd46ef5ee9cc01f55fd750572162ff13ffdcb0d76bc6515c',\n",
       "   'pubkey': '02f64786aa778ffff186310dc76aa23b8b8633dc9617594c4ebceda05388ea78a6'},\n",
       "  {'path': \"m/44'/60'/0'/0/3\",\n",
       "   'address': '0x90977260C2d3af70378343B5E6484c40017D01ca',\n",
       "   'privkey': '0x252828b5cab951dc4825654eb5b51bbea5793c0c9cb22bd28a6e4fb33d06923d',\n",
       "   'pubkey': '02483c729011ae0588ff891db4bd782884a01845f12f93974d20196a57e3b3cd63'},\n",
       "  {'path': \"m/44'/60'/0'/0/4\",\n",
       "   'address': '0xA6Da62291C93CD552fB6B26bFdC9C49Fa99B9688',\n",
       "   'privkey': '0x13229d819803f3fa47759ec9cd561d28d47c714820172e704d86c7abdbde62f3',\n",
       "   'pubkey': '0271f33f9aa64e618b5dba7375c0eb833f947146603ae00861350c07c4b39d1566'},\n",
       "  {'path': \"m/44'/60'/0'/0/5\",\n",
       "   'address': '0x2C081f8dae04d3438044259D3186A082316bcD70',\n",
       "   'privkey': '0x7e87bfe43a17b3911a17c5179f54d014dc34993c3d813111f4820e3cf848935b',\n",
       "   'pubkey': '025b63ebdd7c44ee44c294c097777abc3aa476cfe6321b6a901350d328c0f50fec'},\n",
       "  {'path': \"m/44'/60'/0'/0/6\",\n",
       "   'address': '0x7fb0c2786E9AdD02d464F456482B4A0216e076Ec',\n",
       "   'privkey': '0x33bb5f1187ef700c065035a16fc300837beaf139809a0b3b4f1c41afed804073',\n",
       "   'pubkey': '026031c685f1207df0e272f4dc9f99e6a587fbc55d910981878182113f7cca2738'},\n",
       "  {'path': \"m/44'/60'/0'/0/7\",\n",
       "   'address': '0x30D8Ca4df0ae4eB2B94cF9745Ed8f4d48a0F93fa',\n",
       "   'privkey': '0x5d938cf8e29a9b9a7c0079e7559693fa70874fe45c589ee92ab2e6dc36e65f56',\n",
       "   'pubkey': '02d48bc56d9989c3575ed2970bbeae38adfbb0306fa57a062d9485c5a88c5def77'},\n",
       "  {'path': \"m/44'/60'/0'/0/8\",\n",
       "   'address': '0x727399b320DCc6AbD62A390D9b401941B631e9EE',\n",
       "   'privkey': '0x78cd14e4b771551411cb30f120341252718d8c4fc9bf106090e29d0bd7ca7e22',\n",
       "   'pubkey': '02771e22c2c62e48e3bdd1fb780ffa128e937d13cedf69addcd966704b87f8aae5'},\n",
       "  {'path': \"m/44'/60'/0'/0/9\",\n",
       "   'address': '0x91bcDc778C54f21c40d065ac6cf4cc38F0698A6b',\n",
       "   'privkey': '0x3f5c5d8ad96955b586419b186b3766a9d6376c07e90e42ae2c448b72f8ae72b1',\n",
       "   'pubkey': '02ceedb5d81b70306f3d12ba5939f92ef871c4fa5bcf18f122fadbcfa6d654a2ea'}],\n",
       " 'btc-test': [{'path': \"m/44'/1'/0'/0/0\",\n",
       "   'address': 'mrEpvqTHeU52Aj5SRsux33V4xwqEmWcbAW',\n",
       "   'privkey': 'cTvT1LAHD9X3BLiKRJbrtCkErMeRaJwpDrNtZCAQw9MGWycJ2pXf',\n",
       "   'pubkey': '02c15d8c1d85ca5db116fc6ad7e8c48c3a2be7b3f9877d02069322a52b654dfff7'},\n",
       "  {'path': \"m/44'/1'/0'/0/1\",\n",
       "   'address': 'mpJbDpsFBtu8wDJDsLuHBcGbnf3T2BhEQL',\n",
       "   'privkey': 'cQbwVLXcXjH75vAnTr4CjFriqmn7yXPzuCxvvMeFjJ91ywES8rM1',\n",
       "   'pubkey': '03fc68ca7877ee3caeb3febcb43b1d563f39fbbbab333235a758cf9389d43a905c'},\n",
       "  {'path': \"m/44'/1'/0'/0/2\",\n",
       "   'address': 'miRZq1aZpGM4aztZdAPezmUEtNP8f6fwQD',\n",
       "   'privkey': 'cVt5KTfpsrnKUiMYeqeVequYr5jXby5xnoToMtPzky84rk54UHxR',\n",
       "   'pubkey': '03a46b7afa200f696edd20e1f93a0cd0ad9b1f484f8062ef0bc5bb420404c1f6dc'},\n",
       "  {'path': \"m/44'/1'/0'/0/3\",\n",
       "   'address': 'mrnKe5nJHmZjcJURvHoa5ptiPTAuRoTzwg',\n",
       "   'privkey': 'cT6R7RN89QT13LZKVagCD6uz2Y8ZBoe18m8E3HkB9dFA1LFSShCc',\n",
       "   'pubkey': '030cf5cf0885a4f67688d2943ab996b24d5f30e0bc31de25ff5f969edac8f170b9'},\n",
       "  {'path': \"m/44'/1'/0'/0/4\",\n",
       "   'address': 'msQ2is4R3wNuHpA2AVQNYgK79Kiaf5vsUk',\n",
       "   'privkey': 'cV4rMR2fHMkNN4zc5AnC3RmnEqzcpJFYAVTzCGynEV9kgEERiNNg',\n",
       "   'pubkey': '02d9e7e792d047675ad0fad7794dc906cd92bdf48f4d57d6f300792db191393f19'},\n",
       "  {'path': \"m/44'/1'/0'/0/5\",\n",
       "   'address': 'mztoRtjDzm8HNvgM2m83jkQYarvnD4Az1N',\n",
       "   'privkey': 'cTWAnpAAqECXb3UsocwtBFshy41NBp3mmTFc4fUFKaq1z2ertj4c',\n",
       "   'pubkey': '034bbbe3646642efea0a566beceaff178966270622d966bcf30127d3385a6dd645'},\n",
       "  {'path': \"m/44'/1'/0'/0/6\",\n",
       "   'address': 'mgzC7f2mmJW5y2kW9R4KWNDzKr9hePVHrC',\n",
       "   'privkey': 'cRQyRuXD3SuiMeNtFmXSXYEGYfUaRLqbALHBLwJLGTatJWdgTafN',\n",
       "   'pubkey': '02f4ee547772db0c5d8fad74aab64aad0d50b35ab0ca7e064e316dd6fd6d16f73f'},\n",
       "  {'path': \"m/44'/1'/0'/0/7\",\n",
       "   'address': 'n4fjCscesQLaWZGZroy1LfmXQNBE1nNwfU',\n",
       "   'privkey': 'cR1ATRizTC6UPoxDPvbCf5iozs7ViMVmH9k2UCvCeRxTYXRhdyt1',\n",
       "   'pubkey': '038daf01451ede2ac4fcfc2f641b0ee392b64f4747955f42f17c3972586d0cfdc3'},\n",
       "  {'path': \"m/44'/1'/0'/0/8\",\n",
       "   'address': 'mrv3xE68m9qpPNtoJdoTq8pj1WNk7k6FfY',\n",
       "   'privkey': 'cS4gFc9XVCAzk15xduG8Yr3WvKoRyMf1MujhAd64homHn1VhvoEv',\n",
       "   'pubkey': '02f67d06b441d94c2b33a31c0f7b4b2f916c8a1e077c8b41ac1974a12159e10355'},\n",
       "  {'path': \"m/44'/1'/0'/0/9\",\n",
       "   'address': 'mihMEkFXAi1f1bpCbDrDShe1Y32cfNFpUe',\n",
       "   'privkey': 'cPjwRdvwdhCY3HjftYKc7rVyfweb4mn4P2yN5QGxPe8M8YP9tG66',\n",
       "   'pubkey': '02c758e26d260bc51aea103c7ac259d0c2b0ac994f67960dcbfa5990bc3915bca1'}]}"
      ]
     },
     "execution_count": 128,
     "metadata": {},
     "output_type": "execute_result"
    }
   ],
   "source": [
    "coin_list = [BTC, ETH, BTCTEST]\n",
    "coins = {}\n",
    "for coin in coin_list:\n",
    "    coins[coin] = derive_wallets(coin)"
   ]
  },
  {
   "cell_type": "code",
   "execution_count": 129,
   "metadata": {},
   "outputs": [
    {
     "data": {
      "text/plain": [
       "[{'path': \"m/44'/1'/0'/0/0\",\n",
       "  'address': 'mrEpvqTHeU52Aj5SRsux33V4xwqEmWcbAW',\n",
       "  'privkey': 'cTvT1LAHD9X3BLiKRJbrtCkErMeRaJwpDrNtZCAQw9MGWycJ2pXf',\n",
       "  'pubkey': '02c15d8c1d85ca5db116fc6ad7e8c48c3a2be7b3f9877d02069322a52b654dfff7'},\n",
       " {'path': \"m/44'/1'/0'/0/1\",\n",
       "  'address': 'mpJbDpsFBtu8wDJDsLuHBcGbnf3T2BhEQL',\n",
       "  'privkey': 'cQbwVLXcXjH75vAnTr4CjFriqmn7yXPzuCxvvMeFjJ91ywES8rM1',\n",
       "  'pubkey': '03fc68ca7877ee3caeb3febcb43b1d563f39fbbbab333235a758cf9389d43a905c'},\n",
       " {'path': \"m/44'/1'/0'/0/2\",\n",
       "  'address': 'miRZq1aZpGM4aztZdAPezmUEtNP8f6fwQD',\n",
       "  'privkey': 'cVt5KTfpsrnKUiMYeqeVequYr5jXby5xnoToMtPzky84rk54UHxR',\n",
       "  'pubkey': '03a46b7afa200f696edd20e1f93a0cd0ad9b1f484f8062ef0bc5bb420404c1f6dc'},\n",
       " {'path': \"m/44'/1'/0'/0/3\",\n",
       "  'address': 'mrnKe5nJHmZjcJURvHoa5ptiPTAuRoTzwg',\n",
       "  'privkey': 'cT6R7RN89QT13LZKVagCD6uz2Y8ZBoe18m8E3HkB9dFA1LFSShCc',\n",
       "  'pubkey': '030cf5cf0885a4f67688d2943ab996b24d5f30e0bc31de25ff5f969edac8f170b9'},\n",
       " {'path': \"m/44'/1'/0'/0/4\",\n",
       "  'address': 'msQ2is4R3wNuHpA2AVQNYgK79Kiaf5vsUk',\n",
       "  'privkey': 'cV4rMR2fHMkNN4zc5AnC3RmnEqzcpJFYAVTzCGynEV9kgEERiNNg',\n",
       "  'pubkey': '02d9e7e792d047675ad0fad7794dc906cd92bdf48f4d57d6f300792db191393f19'},\n",
       " {'path': \"m/44'/1'/0'/0/5\",\n",
       "  'address': 'mztoRtjDzm8HNvgM2m83jkQYarvnD4Az1N',\n",
       "  'privkey': 'cTWAnpAAqECXb3UsocwtBFshy41NBp3mmTFc4fUFKaq1z2ertj4c',\n",
       "  'pubkey': '034bbbe3646642efea0a566beceaff178966270622d966bcf30127d3385a6dd645'},\n",
       " {'path': \"m/44'/1'/0'/0/6\",\n",
       "  'address': 'mgzC7f2mmJW5y2kW9R4KWNDzKr9hePVHrC',\n",
       "  'privkey': 'cRQyRuXD3SuiMeNtFmXSXYEGYfUaRLqbALHBLwJLGTatJWdgTafN',\n",
       "  'pubkey': '02f4ee547772db0c5d8fad74aab64aad0d50b35ab0ca7e064e316dd6fd6d16f73f'},\n",
       " {'path': \"m/44'/1'/0'/0/7\",\n",
       "  'address': 'n4fjCscesQLaWZGZroy1LfmXQNBE1nNwfU',\n",
       "  'privkey': 'cR1ATRizTC6UPoxDPvbCf5iozs7ViMVmH9k2UCvCeRxTYXRhdyt1',\n",
       "  'pubkey': '038daf01451ede2ac4fcfc2f641b0ee392b64f4747955f42f17c3972586d0cfdc3'},\n",
       " {'path': \"m/44'/1'/0'/0/8\",\n",
       "  'address': 'mrv3xE68m9qpPNtoJdoTq8pj1WNk7k6FfY',\n",
       "  'privkey': 'cS4gFc9XVCAzk15xduG8Yr3WvKoRyMf1MujhAd64homHn1VhvoEv',\n",
       "  'pubkey': '02f67d06b441d94c2b33a31c0f7b4b2f916c8a1e077c8b41ac1974a12159e10355'},\n",
       " {'path': \"m/44'/1'/0'/0/9\",\n",
       "  'address': 'mihMEkFXAi1f1bpCbDrDShe1Y32cfNFpUe',\n",
       "  'privkey': 'cPjwRdvwdhCY3HjftYKc7rVyfweb4mn4P2yN5QGxPe8M8YP9tG66',\n",
       "  'pubkey': '02c758e26d260bc51aea103c7ac259d0c2b0ac994f67960dcbfa5990bc3915bca1'}]"
      ]
     },
     "execution_count": 129,
     "metadata": {},
     "output_type": "execute_result"
    }
   ],
   "source": [
    "coins[BTCTEST]"
   ]
  },
  {
   "cell_type": "code",
   "execution_count": 131,
   "metadata": {},
   "outputs": [
    {
     "data": {
      "text/plain": [
       "'{\"unspents\":[{\"amount\":479757,\"confirmations\":0,\"script\":\"76a914759c945d8ddf56b911998ed6dd57d4ffea797f0388ac\",\"txid\":\"2695c01e64c719fd11a96e5c7590774bb25dd497f61279cddb9890660444184f\",\"txindex\":1,\"type\":\"p2pkh\",\"vsize\":148,\"segwit\":false,\"sequence\":4294967295}],\"outputs\":[[\"mpJbDpsFBtu8wDJDsLuHBcGbnf3T2BhEQL\",10000],[\"mrEpvqTHeU52Aj5SRsux33V4xwqEmWcbAW\",392465]]}'"
      ]
     },
     "execution_count": 131,
     "metadata": {},
     "output_type": "execute_result"
    }
   ],
   "source": [
    "create_tx(BTCTEST, coins[BTCTEST][0]['privkey'], coins[BTCTEST][1]['address'], 0.0001)"
   ]
  },
  {
   "cell_type": "code",
   "execution_count": 132,
   "metadata": {},
   "outputs": [
    {
     "data": {
      "text/plain": [
       "'{\"unspents\":[{\"amount\":479757,\"confirmations\":0,\"script\":\"76a914759c945d8ddf56b911998ed6dd57d4ffea797f0388ac\",\"txid\":\"2695c01e64c719fd11a96e5c7590774bb25dd497f61279cddb9890660444184f\",\"txindex\":1,\"type\":\"p2pkh\",\"vsize\":148,\"segwit\":false,\"sequence\":4294967295}],\"outputs\":[[\"mpJbDpsFBtu8wDJDsLuHBcGbnf3T2BhEQL\",10000],[\"mrEpvqTHeU52Aj5SRsux33V4xwqEmWcbAW\",392465]]}'"
      ]
     },
     "execution_count": 132,
     "metadata": {},
     "output_type": "execute_result"
    }
   ],
   "source": [
    "raw_tx = create_tx(BTCTEST, coins[BTCTEST][0]['privkey'], coins[BTCTEST][1]['address'], 0.0001)\n",
    "# raw_tx = create_tx(ETH, priv_key_to_account(ETH, coins[ETH][0]['privkey']), coins[ETH][1]['address'], 1)\n",
    "raw_tx\n",
    "# dir(w3.eth)"
   ]
  },
  {
   "cell_type": "code",
   "execution_count": 133,
   "metadata": {},
   "outputs": [],
   "source": [
    "from bit.network import NetworkAPI"
   ]
  },
  {
   "cell_type": "code",
   "execution_count": 134,
   "metadata": {},
   "outputs": [
    {
     "data": {
      "text/plain": [
       "'01000000014f184404669098dbcd7912f697d45db24b7790755c6ea911fd19c7641ec09526010000006a47304402200544d62f67bddccfd48e8548129129b40aa9ae655336cf28793408071d946c40022004988ba74a29d34a74ed2ec8b7823dcdd4b2c1317eb743a7c178a24fd4218677012102c15d8c1d85ca5db116fc6ad7e8c48c3a2be7b3f9877d02069322a52b654dfff7ffffffff0210270000000000001976a91460628cbc1e2cb0d8fd74571264c6cea0bc68464e88ac11fd0500000000001976a914759c945d8ddf56b911998ed6dd57d4ffea797f0388ac00000000'"
      ]
     },
     "execution_count": 134,
     "metadata": {},
     "output_type": "execute_result"
    }
   ],
   "source": [
    "account = priv_key_to_account(BTCTEST, coins[BTCTEST][0]['privkey'])\n",
    "# signed = account.sign_transaction(raw_tx)\n",
    "# account.sign_transaction(raw_tx)\n",
    "account.sign_transaction(raw_tx)"
   ]
  },
  {
   "cell_type": "code",
   "execution_count": 103,
   "metadata": {},
   "outputs": [
    {
     "data": {
      "text/plain": [
       "HexBytes('0x46a1b3a3fb18c81211fd074b6edcde722c67a5a9657e854ec391a9e73c0f4e59')"
      ]
     },
     "execution_count": 103,
     "metadata": {},
     "output_type": "execute_result"
    }
   ],
   "source": [
    "w3.eth.sendRawTransaction(signed.rawTransaction)"
   ]
  }
 ],
 "metadata": {
  "kernelspec": {
   "display_name": "Python 3",
   "language": "python",
   "name": "python3"
  },
  "language_info": {
   "codemirror_mode": {
    "name": "ipython",
    "version": 3
   },
   "file_extension": ".py",
   "mimetype": "text/x-python",
   "name": "python",
   "nbconvert_exporter": "python",
   "pygments_lexer": "ipython3",
   "version": "3.7.7"
  }
 },
 "nbformat": 4,
 "nbformat_minor": 4
}
