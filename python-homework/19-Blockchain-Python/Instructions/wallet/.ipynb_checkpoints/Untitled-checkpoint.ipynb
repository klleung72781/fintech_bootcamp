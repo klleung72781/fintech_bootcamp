{
 "cells": [
  {
   "cell_type": "code",
   "execution_count": 78,
   "metadata": {},
   "outputs": [],
   "source": [
    "import subprocess\n",
    "import json\n",
    "import os\n",
    "from bit import PrivateKeyTestnet\n",
    "import web3\n",
    "from web3 import Web3\n",
    "from web3.middleware import geth_poa_middleware\n",
    "from eth_account import Account\n",
    "from dotenv import load_dotenv\n",
    "load_dotenv()\n",
    "\n",
    "from constants import *\n",
    "w3 = Web3(Web3.HTTPProvider(\"http://127.0.0.1:8545\"))\n",
    "w3.middleware_onion.inject(geth_poa_middleware, layer=0)"
   ]
  },
  {
   "cell_type": "code",
   "execution_count": 3,
   "metadata": {},
   "outputs": [],
   "source": [
    "from constants import *\n",
    "mnemonic = os.getenv('MNEMONIC')"
   ]
  },
  {
   "cell_type": "code",
   "execution_count": 97,
   "metadata": {},
   "outputs": [],
   "source": [
    "def derive_wallets(coin):\n",
    "    mnemonic = os.getenv('MNEMONIC')\n",
    "\n",
    "    #ln does not work for me, replaced with actual php instead\n",
    "    command = f'php hd-wallet-derive\\hd-wallet-derive.php -g --mnemonic=\"{mnemonic}\" --cols=path,address,privkey,pubkey --format=json --coin={coin}'\n",
    "\n",
    "    p = subprocess.Popen(command, stdout=subprocess.PIPE, shell=True)\n",
    "    output, err = p.communicate()\n",
    "    p_status = p.wait()\n",
    "\n",
    "    keys = json.loads(output)\n",
    "    return keys\n",
    "\n",
    "def priv_key_to_account(coin, priv_key):\n",
    "    if (coin == 'eth'):\n",
    "        return web3.eth.Account.privateKeyToAccount(priv_key)\n",
    "    elif (coin == 'btc-test'):\n",
    "        return PrivateKeyTestnet(priv_key)\n",
    "    else:\n",
    "        return None\n",
    "\n",
    "def create_tx(coin , account, to, amount):\n",
    "    if (coin == 'eth'):\n",
    "        return {\n",
    "            'to': to,\n",
    "            'from': account,\n",
    "            'value': amount,\n",
    "            'gas': w3.eth.estimateGas({\n",
    "                \"from\": account.address,\n",
    "                \"to\": to,\n",
    "                \"value\": amount\n",
    "            }),\n",
    "            'gasPrice': w3.eth.gasPrice,\n",
    "            'nonce': w3.eth.getTransactionCount(account.address),\n",
    "            'chainID': coins[coin][0]['path'].split(\"'/\")[1]\n",
    "        }\n",
    "    elif (coin == 'btc-test'):\n",
    "        return PrivateKeyTestnet.prepare_transaction(account.address, [(to, amount, BTC)])\n",
    "    else:\n",
    "        return None"
   ]
  },
  {
   "cell_type": "code",
   "execution_count": 99,
   "metadata": {},
   "outputs": [],
   "source": [
    "coin_list = [BTC, ETH, BTCTEST]\n",
    "coins = {}\n",
    "for coin in coin_list:\n",
    "    coins[coin] = derive_wallets(coin)"
   ]
  },
  {
   "cell_type": "code",
   "execution_count": 106,
   "metadata": {},
   "outputs": [
    {
     "data": {
      "text/plain": [
       "[{'path': \"m/44'/1'/0'/0/0\",\n",
       "  'address': 'mzZvByXUY9PtPymNGW119PJpUidbjoaMBF',\n",
       "  'privkey': 'cSY2gmfbuc7DHoAViVDsootzAJHght2SnEPf43ZmkhsJ5q4rpk1U',\n",
       "  'pubkey': '0364c4da6af46b97ba5a182a379b80668761563de1cbb0953d512f91420042ee2c'},\n",
       " {'path': \"m/44'/1'/0'/0/1\",\n",
       "  'address': 'msJhVHUMkcDT7JJWcYSv93vFUSP8sGtQv9',\n",
       "  'privkey': 'cVpqtbvGQYUnTiJcfCfg4wqpfJhFYqhcHiteUcqMh1PYq11PA8zL',\n",
       "  'pubkey': '0398e194427ebc627a0aefe99a4f1d8449adc4064c475859b13cc0cac7b5b68290'},\n",
       " {'path': \"m/44'/1'/0'/0/2\",\n",
       "  'address': 'mqtMHFgWSeBnFZb8KbTz9DRn5uhcKNzbpu',\n",
       "  'privkey': 'cTBKhSjKZwk2vvzeCDXfkgEGf6S1AWrqw1RELLQALsAnbK7n8m6Q',\n",
       "  'pubkey': '0216e098c6b767d2cabc8ae11b1adcfb3398f99c88859513ba9693406680b8675c'},\n",
       " {'path': \"m/44'/1'/0'/0/3\",\n",
       "  'address': 'mj2xQxnrq62mrPjSANWF8BSNkEK6P6T86N',\n",
       "  'privkey': 'cVtQrk9yg1pEifSFqmtvGL5e4mhWZrEshv6uipmDiNL9koiAwnyu',\n",
       "  'pubkey': '0359ffdf3ebc8db4745b19b3c1a7836a7073c9e496c5dd77a8eb1e9edea42c67ba'},\n",
       " {'path': \"m/44'/1'/0'/0/4\",\n",
       "  'address': 'mpxkWPqy8gDouV4C1Qst9VyZHdjgBfkhpv',\n",
       "  'privkey': 'cTNpVJztGsYGJ9Jd71VHsVoFWfnhDbpBf9u3FwHa3JscL4vmiNSg',\n",
       "  'pubkey': '023f974dc68d6f26d228378a06f0d1a0b08ba56b8fc10c39466d3ab8663a1c5348'},\n",
       " {'path': \"m/44'/1'/0'/0/5\",\n",
       "  'address': 'muTTYcDGtkuvMbDNFfYANsgKoAUgbEudcp',\n",
       "  'privkey': 'cUbLpJdqE1173sFDEHLFSB7536XaK7GEBKqpZdkCqBidbn4sPujD',\n",
       "  'pubkey': '028d6629bfd8deb1d7493f8521988cac638a490541cb78843911dba5dc90cf8371'},\n",
       " {'path': \"m/44'/1'/0'/0/6\",\n",
       "  'address': 'mgZovJYQuaaFZGN25e5cgLxMFMRdpgb7S9',\n",
       "  'privkey': 'cU9qH8FS7kzukgQJjev7Cv4VbSBwiubjDHonndM222jCUdU6tcUn',\n",
       "  'pubkey': '02e59f0d3ade10a6a9956bfecfa19d8c5eb3c0a4cbd2979f96b8ab4fc0573545bc'},\n",
       " {'path': \"m/44'/1'/0'/0/7\",\n",
       "  'address': 'mjuG7iQeeS5KvYKufoqG4aZi9paxRK5Deq',\n",
       "  'privkey': 'cNyEi6yaZ6vLBaeaXP39UifDMyj5LFdugVSQNPVThdrMrP6vi2tq',\n",
       "  'pubkey': '034f23bad014896fb3bc54f22670a25c38babbd37c7247b11d81c8c1dc3817bcf3'},\n",
       " {'path': \"m/44'/1'/0'/0/8\",\n",
       "  'address': 'mp1XPBVMhAJMKooXSiBNdDZWi5E4kHSctY',\n",
       "  'privkey': 'cUMX7uKoPAbCZBFiBPLPDrNzfAJz6peBZt7uEj5Hp1pxshfBqD8n',\n",
       "  'pubkey': '03c83da8a25ec98e084cf4549c92d0271b9ec38be91aa0fea28a2a2cee0f1a336e'},\n",
       " {'path': \"m/44'/1'/0'/0/9\",\n",
       "  'address': 'myrmT7zeVGjCFMnGucD6khB1Q93QUSMFFr',\n",
       "  'privkey': 'cPqB8SALhZUJNXcyCQ5oWaAHFK3qCyXhEZFMGEQVhXSowkDHHGD9',\n",
       "  'pubkey': '02053c6716c4f1877a66a1bb82bd4dc3cf3bb34a6015fc635accce78fb7df10511'}]"
      ]
     },
     "execution_count": 106,
     "metadata": {},
     "output_type": "execute_result"
    }
   ],
   "source": [
    "# create_tx(ETH, priv_key_to_account(ETH, coins[ETH][0]['privkey']), coins[ETH][1]['address'], 1)\n",
    "# coins[BTCTEST]\n",
    "# priv_key_to_account(BTCTEST, coins[BTCTEST][2]['privkey']).balance\n",
    "coins[BTCTEST]"
   ]
  }
 ],
 "metadata": {
  "kernelspec": {
   "display_name": "Python 3",
   "language": "python",
   "name": "python3"
  },
  "language_info": {
   "codemirror_mode": {
    "name": "ipython",
    "version": 3
   },
   "file_extension": ".py",
   "mimetype": "text/x-python",
   "name": "python",
   "nbconvert_exporter": "python",
   "pygments_lexer": "ipython3",
   "version": "3.7.7"
  }
 },
 "nbformat": 4,
 "nbformat_minor": 4
}
