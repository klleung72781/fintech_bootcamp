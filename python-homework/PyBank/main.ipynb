{
 "cells": [
  {
   "cell_type": "code",
   "execution_count": 10,
   "metadata": {},
   "outputs": [
    {
     "name": "stdout",
     "output_type": "stream",
     "text": [
      "Financial Analysis\n",
      "----------------------------\n",
      "Total Months: 86\n",
      "Total: $38382578\n",
      "Average  Change: $446309.0465116279\n",
      "Greatest Increase in Profits: Feb-2012 ($1170593)\n",
      "Greatest Decrease in Profits: Sep-2013 ($-1196225)\n"
     ]
    }
   ],
   "source": [
    "# PyBank\n",
    "import csv\n",
    "\n",
    "with open(\"budget_data.csv\", \"r\") as budget_data:\n",
    "    csv_dict = csv.DictReader(budget_data, delimiter=\",\")\n",
    "    budget_data_dict = list(map(lambda x: dict(x), csv_dict))\n",
    "\n",
    "profit_and_losses = list(map(lambda x: int(x[\"Profit/Losses\"]), budget_data_dict))\n",
    "total = sum(profit_and_losses)\n",
    "\n",
    "print(\"Financial Analysis\")\n",
    "print(\"----------------------------\")\n",
    "print(f\"Total Months: {len(budget_data_dict)}\")\n",
    "print(f\"Total: ${total}\")\n",
    "print(f\"Average  Change: ${total/len(budget_data_dict)}\")\n",
    "print(f\"Greatest Increase in Profits: {budget_data_dict[profit_and_losses.index(max(profit_and_losses))]['Date']} (${max(profit_and_losses)})\")\n",
    "print(f\"Greatest Decrease in Profits: {budget_data_dict[profit_and_losses.index(min(profit_and_losses))]['Date']} (${min(profit_and_losses)})\")"
   ]
  },
  {
   "cell_type": "code",
   "execution_count": null,
   "metadata": {},
   "outputs": [],
   "source": []
  }
 ],
 "metadata": {
  "kernelspec": {
   "display_name": "Python 3",
   "language": "python",
   "name": "python3"
  },
  "language_info": {
   "codemirror_mode": {
    "name": "ipython",
    "version": 3
   },
   "file_extension": ".py",
   "mimetype": "text/x-python",
   "name": "python",
   "nbconvert_exporter": "python",
   "pygments_lexer": "ipython3",
   "version": "3.7.6"
  }
 },
 "nbformat": 4,
 "nbformat_minor": 4
}
